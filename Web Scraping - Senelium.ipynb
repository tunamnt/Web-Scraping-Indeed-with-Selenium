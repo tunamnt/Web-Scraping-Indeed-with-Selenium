{
 "cells": [
  {
   "cell_type": "code",
   "execution_count": 13,
   "id": "94dff0d9",
   "metadata": {},
   "outputs": [],
   "source": [
    "# Import necessary library\n",
    "\n",
    "from selenium.webdriver.common.by import By\n",
    "from selenium import webdriver\n",
    "from selenium.webdriver.common.keys import Keys\n",
    "from selenium.webdriver.support.ui import WebDriverWait\n",
    "from selenium.webdriver.support import expected_conditions as EC\n",
    "from webdriver_manager.chrome import ChromeDriverManager\n",
    "from selenium import webdriver\n",
    "from selenium.webdriver.chrome.options import Options\n",
    "import pandas as pd\n",
    "import numpy as np\n",
    "import csv\n",
    "import requests"
   ]
  },
  {
   "cell_type": "code",
   "execution_count": 7,
   "id": "da0ca890",
   "metadata": {},
   "outputs": [],
   "source": [
    "# Produce a url from position and location\n",
    "\n",
    "def get_url(position,location):\n",
    "    template=\"https://uk.indeed.com/jobs?q={}&l={}\"\n",
    "    url=template.format(position,location)\n",
    "    return url"
   ]
  },
  {
   "cell_type": "code",
   "execution_count": 15,
   "id": "1cefded6",
   "metadata": {},
   "outputs": [
    {
     "data": {
      "text/plain": [
       "200"
      ]
     },
     "execution_count": 15,
     "metadata": {},
     "output_type": "execute_result"
    }
   ],
   "source": [
    "# Check if the function works\n",
    "\n",
    "url=get_url(\"data scientist\",\"London\")\n",
    "headers={'User-Agent':'Mozilla/5.0 (Windows NT 6.1; WOW64) AppleWebKit/537.36 (KHTML, like Gecko) Chrome/47.0.2526.111 Safari/537.36'}\n",
    "r = requests.get(url,headers=headers)\n",
    "r.status_code"
   ]
  },
  {
   "cell_type": "markdown",
   "id": "fb8fdfe6",
   "metadata": {},
   "source": [
    "# Extract raw html"
   ]
  },
  {
   "cell_type": "code",
   "execution_count": 18,
   "id": "523c14ad",
   "metadata": {},
   "outputs": [
    {
     "name": "stderr",
     "output_type": "stream",
     "text": [
      "<ipython-input-18-c2042bbce4a8>:5: DeprecationWarning: executable_path has been deprecated, please pass in a Service object\n",
      "  driver = webdriver.Chrome(chrome_options=options, executable_path=r'C:\\Users\\khoip\\AppData\\Local\\Google\\Chrome\\User Data\\Default\\chromedriver.exe')\n",
      "<ipython-input-18-c2042bbce4a8>:5: DeprecationWarning: use options instead of chrome_options\n",
      "  driver = webdriver.Chrome(chrome_options=options, executable_path=r'C:\\Users\\khoip\\AppData\\Local\\Google\\Chrome\\User Data\\Default\\chromedriver.exe')\n"
     ]
    },
    {
     "name": "stdout",
     "output_type": "stream",
     "text": [
      "Page Title is : Data Scientist Jobs in London - 2021 | Indeed.com\n"
     ]
    }
   ],
   "source": [
    "# Create driver for chrome and run to see if it works\n",
    "\n",
    "options = Options()\n",
    "options.add_argument(\"start-maximized\")\n",
    "driver = webdriver.Chrome(chrome_options=options, executable_path=r'C:\\Users\\khoip\\AppData\\Local\\Google\\Chrome\\User Data\\Default\\chromedriver.exe')\n",
    "driver.get('https://uk.indeed.com/jobs?q=data+scientist&l=London,+Greater+London&start=0')\n",
    "print(\"Page Title is : %s\" %driver.title)"
   ]
  },
  {
   "cell_type": "code",
   "execution_count": 19,
   "id": "36c39b95",
   "metadata": {
    "scrolled": true
   },
   "outputs": [
    {
     "name": "stderr",
     "output_type": "stream",
     "text": [
      "<ipython-input-19-24cf765529a0>:3: DeprecationWarning: find_elements_by_* commands are deprecated. Please use find_elements() instead\n",
      "  job_cards=driver.find_elements_by_xpath('//div[contains(@class,\"job_seen_beacon\")]')\n"
     ]
    }
   ],
   "source": [
    "# Extract job cards info by finding elements with xpath\n",
    "\n",
    "job_cards=driver.find_elements_by_xpath('//div[contains(@class,\"job_seen_beacon\")]')"
   ]
  },
  {
   "cell_type": "code",
   "execution_count": 20,
   "id": "274a0b1a",
   "metadata": {},
   "outputs": [
    {
     "data": {
      "text/plain": [
       "15"
      ]
     },
     "execution_count": 20,
     "metadata": {},
     "output_type": "execute_result"
    }
   ],
   "source": [
    "len(job_cards)"
   ]
  },
  {
   "cell_type": "markdown",
   "id": "948f5d30",
   "metadata": {},
   "source": [
    "# Prototype the model with a single record "
   ]
  },
  {
   "cell_type": "code",
   "execution_count": 170,
   "id": "89b1f2ac",
   "metadata": {},
   "outputs": [],
   "source": [
    "job_card=job_cards[1]"
   ]
  },
  {
   "cell_type": "code",
   "execution_count": 171,
   "id": "7b4a48bf",
   "metadata": {},
   "outputs": [],
   "source": [
    "# Title\n",
    "\n",
    "title=job_card.find_element_by_xpath('.//h2[contains(@class,\"jobTitle\")]').text.strip('new').strip()"
   ]
  },
  {
   "cell_type": "code",
   "execution_count": 172,
   "id": "d64bfa24",
   "metadata": {},
   "outputs": [],
   "source": [
    "# Company name\n",
    "# Using try-except method as there are some errors with company name, salary and description\n",
    "\n",
    "try:\n",
    "    company=job_card.find_element_by_xpath('.//span[@class=\"companyName\"]').text\n",
    "except AttributeError:\n",
    "    company='None'"
   ]
  },
  {
   "cell_type": "code",
   "execution_count": 173,
   "id": "e2a942f4",
   "metadata": {},
   "outputs": [],
   "source": [
    "# Location\n",
    "\n",
    "location = job_card.find_element_by_xpath('.//div[contains(@class,\"companyLocation\")]').text"
   ]
  },
  {
   "cell_type": "code",
   "execution_count": 174,
   "id": "a9873e84",
   "metadata": {},
   "outputs": [],
   "source": [
    "# Salary\n",
    "\n",
    "try:\n",
    "    salary= job_card.find_element_by_xpath('.//div[@class=\"salary-snippet\"]').text\n",
    "except AttributeError:\n",
    "    salary='Negotiable'"
   ]
  },
  {
   "cell_type": "code",
   "execution_count": 175,
   "id": "fa9fac07",
   "metadata": {},
   "outputs": [],
   "source": [
    "# Description\n",
    "\n",
    "try:\n",
    "    description = job_card.find_element_by_tag_name('li').text\n",
    "except AttributeError:\n",
    "    description='None'"
   ]
  },
  {
   "cell_type": "code",
   "execution_count": null,
   "id": "dc1a2c81",
   "metadata": {},
   "outputs": [],
   "source": []
  },
  {
   "cell_type": "markdown",
   "id": "699ca5a1",
   "metadata": {},
   "source": [
    "# Generalize the model with a function"
   ]
  },
  {
   "cell_type": "code",
   "execution_count": 21,
   "id": "b0987964",
   "metadata": {},
   "outputs": [],
   "source": [
    "# Create a function to extract job data from a single record\n",
    "\n",
    "def get_record(job_card):\n",
    "    title=job_card.find_element_by_xpath('.//h2[contains(@class,\"jobTitle\")]').text.strip('new').strip()\n",
    "    try:\n",
    "        company=job_card.find_element_by_xpath('.//span[@class=\"companyName\"]').text\n",
    "    except:\n",
    "        company='None'\n",
    "    try:\n",
    "        location = job_card.find_element_by_xpath('.//div[contains(@class,\"companyLocation\")]').text\n",
    "    except AttributeError:\n",
    "        location='None'\n",
    "    try:\n",
    "        salary= job_card.find_element_by_xpath('.//div[@class=\"salary-snippet\"]').text\n",
    "    except:\n",
    "        salary = 'Negotiable'\n",
    "    try:\n",
    "        description = job_card.find_element_by_tag_name('li').text\n",
    "    except AttributeError:\n",
    "        description='None'\n",
    "\n",
    "    \n",
    "    record=(title,company,location,salary,description)\n",
    "    return record"
   ]
  },
  {
   "cell_type": "code",
   "execution_count": 177,
   "id": "4bd03209",
   "metadata": {},
   "outputs": [],
   "source": [
    "# Run an example\n",
    "\n",
    "records=[]\n",
    "\n",
    "for job_card in job_cards:\n",
    "    record=get_record(job_card)\n",
    "    records.append(record)"
   ]
  },
  {
   "cell_type": "code",
   "execution_count": 178,
   "id": "69bba7b2",
   "metadata": {},
   "outputs": [
    {
     "data": {
      "text/plain": [
       "('Graduate Data Scientist - Modelling (Sep 2022)',\n",
       " 'Funding Circle UK',\n",
       " 'London EC4V',\n",
       " 'Negotiable',\n",
       " 'Using specific tools and languages such as R, Python, SQL and Tableau for reporting and analysis on our AWS data platform.')"
      ]
     },
     "execution_count": 178,
     "metadata": {},
     "output_type": "execute_result"
    }
   ],
   "source": [
    "records[0]"
   ]
  },
  {
   "cell_type": "code",
   "execution_count": null,
   "id": "96ead5dd",
   "metadata": {},
   "outputs": [],
   "source": []
  },
  {
   "cell_type": "markdown",
   "id": "03f314eb",
   "metadata": {},
   "source": [
    "# Put things together\n",
    "# Record data until the end of the job search result and return the record:"
   ]
  },
  {
   "cell_type": "code",
   "execution_count": null,
   "id": "4ff3f451",
   "metadata": {},
   "outputs": [],
   "source": [
    "def get_url(position,location):\n",
    "    template=\"https://uk.indeed.com/jobs?q={}&l={}\"\n",
    "    url=template.format(position,location)\n",
    "    return url\n",
    "\n",
    "def get_record(job_card):\n",
    "    title=job_card.find_element_by_xpath('.//h2[contains(@class,\"jobTitle\")]').text.strip('new').strip()\n",
    "    try:\n",
    "        company=job_card.find_element_by_xpath('.//span[@class=\"companyName\"]').text\n",
    "    except:\n",
    "        company='None'\n",
    "    try:\n",
    "        location = job_card.find_element_by_xpath('.//div[contains(@class,\"companyLocation\")]').text\n",
    "    except AttributeError:\n",
    "        company='None'\n",
    "    try:\n",
    "        salary= job_card.find_element_by_xpath('.//div[@class=\"salary-snippet\"]').text\n",
    "    except:\n",
    "        salary = 'Negotiable'\n",
    "    try:\n",
    "        description = job_card.find_element_by_tag_name('li').text\n",
    "    except AttributeError:\n",
    "        description='None'    \n",
    "    record=(title,company,location,salary,description)\n",
    "    return record\n",
    "\n",
    "# The main program\n",
    "\n",
    "def main(position, location):\n",
    "    records = []\n",
    "    url = get_url(position, location)\n",
    "    \n",
    "    while True:\n",
    "        try:\n",
    "            url = driver.find_element_by_xpath('.//a[contains(@aria-label,\"Next\")]').get_attribute('href')\n",
    "        except AttributeError:\n",
    "            break\n",
    "\n",
    "        driver = webdriver.Chrome(chrome_options = options, executable_path = r'C:\\Users\\khoip\\AppData\\Local\\Google\\Chrome\\User Data\\Default\\chromedriver.exe')\n",
    "        driver.get(url)\n",
    "        job_cards = driver.find_elements_by_xpath('//div[contains(@class,\"job_seen_beacon\")]')\n",
    "        driver.implicitly_wait(3) \n",
    "\n",
    "        # record the data:\n",
    "        for job_card in job_cards:\n",
    "            record = get_record(job_card)\n",
    "            records.append(record)\n",
    "\n",
    "        # save the recorded data:\n",
    "    with open('job_data.csv','w',newline = '',encoding = 'utf-8') as f:\n",
    "        writer = csv.writer(f)\n",
    "        writer.writerow(['Title','Company','Location','Salary','Description'])\n",
    "        writer.writerows(records)"
   ]
  },
  {
   "cell_type": "code",
   "execution_count": null,
   "id": "74e9a352",
   "metadata": {},
   "outputs": [],
   "source": []
  },
  {
   "cell_type": "markdown",
   "id": "dcbde221",
   "metadata": {},
   "source": [
    "# Demo with 5 Urls"
   ]
  },
  {
   "cell_type": "code",
   "execution_count": 22,
   "id": "4a56e3a8",
   "metadata": {},
   "outputs": [],
   "source": [
    "# Run the program with 5 pieces of url\n",
    "\n",
    "def main(position, location):\n",
    "    records = []\n",
    "    url = get_url(position, location)\n",
    "\n",
    "    for number in range(0,5):\n",
    "        url='https://uk.indeed.com/jobs?q=data+scientist&l=London,+Greater+London&start={}'.format(number)\n",
    "\n",
    "        driver = webdriver.Chrome(chrome_options=options, executable_path=r'C:\\Users\\khoip\\AppData\\Local\\Google\\Chrome\\User Data\\Default\\chromedriver.exe')\n",
    "        driver.get(url)\n",
    "        job_cards=driver.find_elements_by_xpath('//div[contains(@class,\"job_seen_beacon\")]')\n",
    "        driver.implicitly_wait(3) \n",
    "\n",
    "        # record the data:\n",
    "        for job_card in job_cards:\n",
    "            record=get_record(job_card)\n",
    "            records.append(record)\n",
    "\n",
    "        # save the recorded data:\n",
    "    with open('job_data.csv','w',newline='',encoding='utf-8') as f:\n",
    "        writer = csv.writer(f)\n",
    "        writer.writerow(['Title','Company','Location','Salary','Description'])\n",
    "        writer.writerows(records)"
   ]
  },
  {
   "cell_type": "code",
   "execution_count": 23,
   "id": "61160827",
   "metadata": {},
   "outputs": [
    {
     "name": "stderr",
     "output_type": "stream",
     "text": [
      "<ipython-input-22-1eebe8f9cedb>:8: DeprecationWarning: executable_path has been deprecated, please pass in a Service object\n",
      "  driver = webdriver.Chrome(chrome_options=options, executable_path=r'C:\\Users\\khoip\\AppData\\Local\\Google\\Chrome\\User Data\\Default\\chromedriver.exe')\n",
      "<ipython-input-22-1eebe8f9cedb>:8: DeprecationWarning: use options instead of chrome_options\n",
      "  driver = webdriver.Chrome(chrome_options=options, executable_path=r'C:\\Users\\khoip\\AppData\\Local\\Google\\Chrome\\User Data\\Default\\chromedriver.exe')\n",
      "<ipython-input-22-1eebe8f9cedb>:10: DeprecationWarning: find_elements_by_* commands are deprecated. Please use find_elements() instead\n",
      "  job_cards=driver.find_elements_by_xpath('//div[contains(@class,\"job_seen_beacon\")]')\n",
      "C:\\Users\\khoip\\anaconda3\\lib\\site-packages\\selenium\\webdriver\\remote\\webelement.py:393: UserWarning: find_element_by_* commands are deprecated. Please use find_element() instead\n",
      "  warnings.warn(\"find_element_by_* commands are deprecated. Please use find_element() instead\")\n",
      "C:\\Users\\khoip\\anaconda3\\lib\\site-packages\\selenium\\webdriver\\remote\\webelement.py:341: UserWarning: find_element_by_* commands are deprecated. Please use find_element() instead\n",
      "  warnings.warn(\"find_element_by_* commands are deprecated. Please use find_element() instead\")\n"
     ]
    }
   ],
   "source": [
    "# run the main function:\n",
    "main('data scientist', 'London')"
   ]
  },
  {
   "cell_type": "code",
   "execution_count": null,
   "id": "363b3e4e",
   "metadata": {},
   "outputs": [],
   "source": []
  }
 ],
 "metadata": {
  "kernelspec": {
   "display_name": "Python 3",
   "language": "python",
   "name": "python3"
  },
  "language_info": {
   "codemirror_mode": {
    "name": "ipython",
    "version": 3
   },
   "file_extension": ".py",
   "mimetype": "text/x-python",
   "name": "python",
   "nbconvert_exporter": "python",
   "pygments_lexer": "ipython3",
   "version": "3.8.8"
  }
 },
 "nbformat": 4,
 "nbformat_minor": 5
}
